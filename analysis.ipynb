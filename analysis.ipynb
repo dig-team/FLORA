{
 "cells": [
  {
   "cell_type": "code",
   "execution_count": 1,
   "metadata": {},
   "outputs": [],
   "source": [
    "import eval"
   ]
  },
  {
   "cell_type": "markdown",
   "metadata": {},
   "source": [
    "* OpenEA datasets (Monolingual)"
   ]
  },
  {
   "cell_type": "code",
   "execution_count": 10,
   "metadata": {},
   "outputs": [],
   "source": [
    "REF_PATH = 'data/OpenEA/D_W_15K_V1/'\n",
    "RES_PATH = 'save/dw-v1.ttl'\n",
    "CLEAN_RES_PATH = 'save/dw-v1-clean.ttl'"
   ]
  },
  {
   "cell_type": "code",
   "execution_count": 11,
   "metadata": {},
   "outputs": [
    {
     "data": {
      "text/plain": [
       "15000"
      ]
     },
     "execution_count": 11,
     "metadata": {},
     "output_type": "execute_result"
    }
   ],
   "source": [
    "y_gold = eval.load_openea_ref(REF_PATH)\n",
    "len(y_gold)"
   ]
  },
  {
   "cell_type": "code",
   "execution_count": 12,
   "metadata": {},
   "outputs": [],
   "source": [
    "threshold = 0.1\n",
    "prefix = 'http://dbpedia.org/resource/'\n",
    "sameAsscores, ent_max_assign = eval.load_ent_results(RES_PATH, prefix, threshold)"
   ]
  },
  {
   "cell_type": "code",
   "execution_count": 13,
   "metadata": {},
   "outputs": [
    {
     "name": "stdout",
     "output_type": "stream",
     "text": [
      "Precision: 0.9545\n",
      "Recall: 0.8419\n",
      "F1: 0.8947\n",
      "\n",
      "Saved final results to \"save/dw-v1-clean.ttl\"\n"
     ]
    }
   ],
   "source": [
    "eval.openea_eval(ent_max_assign, set(y_gold), save_path=CLEAN_RES_PATH)"
   ]
  },
  {
   "cell_type": "markdown",
   "metadata": {},
   "source": [
    "* DBP15K (Multilingual)"
   ]
  },
  {
   "cell_type": "code",
   "execution_count": 2,
   "metadata": {},
   "outputs": [],
   "source": [
    "REF_PATH = 'data/DBP15k/zh_en/'\n",
    "RES_PATH = 'save/dbp15k-zh-en.ttl'"
   ]
  },
  {
   "cell_type": "code",
   "execution_count": 3,
   "metadata": {},
   "outputs": [
    {
     "data": {
      "text/plain": [
       "(10500, 15000, 4500)"
      ]
     },
     "execution_count": 3,
     "metadata": {},
     "output_type": "execute_result"
    }
   ],
   "source": [
    "seed_pairs, ref_pairs = eval.load_dbp15k_ref(REF_PATH)\n",
    "test_pairs = ref_pairs.copy()\n",
    "ref_pairs.update(seed_pairs)\n",
    "len(test_pairs), len(ref_pairs), len(seed_pairs)"
   ]
  },
  {
   "cell_type": "code",
   "execution_count": 4,
   "metadata": {},
   "outputs": [],
   "source": [
    "kb1_prefix = 'http://zh.dbpedia.org/resource/'\n",
    "sameAsscores, ent_max_assign = eval.load_ent_results(RES_PATH, kb1_prefix)"
   ]
  },
  {
   "cell_type": "code",
   "execution_count": null,
   "metadata": {},
   "outputs": [
    {
     "name": "stdout",
     "output_type": "stream",
     "text": [
      "Hit@1: 0.9759\n",
      "Hit@10: 0.9882\n",
      "MRR: 0.9812\n"
     ]
    }
   ],
   "source": [
    "# Ranking Based Metrics: refer to whole results\n",
    "eval.dbp15k_eval(ref_pairs, sameAsscores)"
   ]
  },
  {
   "cell_type": "markdown",
   "metadata": {},
   "source": [
    "* OAEI KGs"
   ]
  },
  {
   "cell_type": "code",
   "execution_count": 2,
   "metadata": {},
   "outputs": [],
   "source": [
    "REF_PATH = 'data/OAEI/memoryalpha-stexpanded/'\n",
    "RES_PATH = 'save/memoryalpha-stexpanded.ttl'\n",
    "CLEAN_RES_PATH = 'save/memoryalpha-stexpanded-clean.ttl'"
   ]
  },
  {
   "cell_type": "code",
   "execution_count": 3,
   "metadata": {},
   "outputs": [],
   "source": [
    "prefix1 = 'http://dbkwik.webdatacommons.org/memory-alpha.wikia.com/'\n",
    "prefix2 = 'http://dbkwik.webdatacommons.org/stexpanded.wikia.com/'\n",
    "# # starswars-swtor\n",
    "# prefix1 = 'http://dbkwik.webdatacommons.org/starwars.wikia.com/'\n",
    "# prefix2 = 'http://dbkwik.webdatacommons.org/swtor.wikia.com/'\n",
    "threshold = 0.1"
   ]
  },
  {
   "cell_type": "code",
   "execution_count": 4,
   "metadata": {},
   "outputs": [],
   "source": [
    "class_gt, property_gt, instance_gt = eval.load_oaei_ref(REF_PATH, prefix1)"
   ]
  },
  {
   "cell_type": "code",
   "execution_count": 5,
   "metadata": {},
   "outputs": [
    {
     "data": {
      "text/plain": [
       "(13, 41, 1725)"
      ]
     },
     "execution_count": 5,
     "metadata": {},
     "output_type": "execute_result"
    }
   ],
   "source": [
    "len(class_gt), len(property_gt), len(instance_gt)"
   ]
  },
  {
   "cell_type": "code",
   "execution_count": 6,
   "metadata": {},
   "outputs": [],
   "source": [
    "y_pred_inst, y_pred_class, y_pred_similar, y_pred_sameAs = eval.load_full_results_oaei_kg_track(class_gt, instance_gt, property_gt, prefix1, RES_PATH)"
   ]
  },
  {
   "cell_type": "code",
   "execution_count": 8,
   "metadata": {},
   "outputs": [
    {
     "name": "stdout",
     "output_type": "stream",
     "text": [
      "**Instances: \n",
      "   Precision: 1.0000, Recall: 0.9461, F1: 0.9723\n",
      "**Classes: \n",
      "   Precision: 1.0000, Recall: 0.8462, F1: 0.9167\n",
      "**Properties: \n",
      "   Precision: 1.0000, Recall: 0.9756, F1: 0.9877\n",
      "**Overall: \n",
      "   Precision: 1.0000, Recall: 0.9460, F1: 0.9723\n",
      "\n",
      "Saved final results to \"save/memoryalpha-stexpanded-clean.ttl\"\n"
     ]
    }
   ],
   "source": [
    "eval.oaei_kg_eval(class_gt, instance_gt, property_gt,\n",
    "                  y_pred_class, y_pred_inst, y_pred_sameAs, y_pred_similar,\n",
    "                  prefix1, prefix2, threshold, save_path=CLEAN_RES_PATH)"
   ]
  },
  {
   "cell_type": "code",
   "execution_count": null,
   "metadata": {},
   "outputs": [],
   "source": []
  }
 ],
 "metadata": {
  "kernelspec": {
   "display_name": "pytorch",
   "language": "python",
   "name": "python3"
  },
  "language_info": {
   "codemirror_mode": {
    "name": "ipython",
    "version": 3
   },
   "file_extension": ".py",
   "mimetype": "text/x-python",
   "name": "python",
   "nbconvert_exporter": "python",
   "pygments_lexer": "ipython3",
   "version": "3.10.10"
  }
 },
 "nbformat": 4,
 "nbformat_minor": 2
}
