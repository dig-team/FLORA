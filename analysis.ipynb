{
 "cells": [
  {
   "cell_type": "code",
   "execution_count": 1,
   "metadata": {},
   "outputs": [],
   "source": [
    "import eval"
   ]
  },
  {
   "cell_type": "markdown",
   "metadata": {},
   "source": [
    "* OpenEA datasets (Monolingual)"
   ]
  },
  {
   "cell_type": "code",
   "execution_count": 10,
   "metadata": {},
   "outputs": [],
   "source": [
    "REF_PATH = 'data/OpenEA/D_W_15K_V1/'\n",
    "RES_PATH = 'save/dw-v1.ttl'\n",
    "CLEAN_RES_PATH = 'save/dw-v1-clean.ttl'"
   ]
  },
  {
   "cell_type": "code",
   "execution_count": 11,
   "metadata": {},
   "outputs": [
    {
     "data": {
      "text/plain": [
       "15000"
      ]
     },
     "execution_count": 11,
     "metadata": {},
     "output_type": "execute_result"
    }
   ],
   "source": [
    "y_gold = eval.load_openea_ref(REF_PATH)\n",
    "len(y_gold)"
   ]
  },
  {
   "cell_type": "code",
   "execution_count": 12,
   "metadata": {},
   "outputs": [],
   "source": [
    "threshold = 0.1\n",
    "prefix = 'http://dbpedia.org/resource/'\n",
    "sameAsscores, ent_max_assign = eval.load_ent_results(RES_PATH, prefix, threshold)"
   ]
  },
  {
   "cell_type": "code",
   "execution_count": 13,
   "metadata": {},
   "outputs": [
    {
     "name": "stdout",
     "output_type": "stream",
     "text": [
      "Precision: 0.9545\n",
      "Recall: 0.8419\n",
      "F1: 0.8947\n",
      "\n",
      "Saved final results to \"save/dw-v1-clean.ttl\"\n"
     ]
    }
   ],
   "source": [
    "eval.openea_eval(ent_max_assign, set(y_gold), save_path=CLEAN_RES_PATH)"
   ]
  },
  {
   "cell_type": "markdown",
   "metadata": {},
   "source": [
    "* DBP15K (Multilingual)"
   ]
  },
  {
   "cell_type": "code",
   "execution_count": 2,
   "metadata": {},
   "outputs": [],
   "source": [
    "REF_PATH = 'data/DBP15k/zh_en/'\n",
    "RES_PATH = 'save/dbp15k-zh-en.ttl'"
   ]
  },
  {
   "cell_type": "code",
   "execution_count": 3,
   "metadata": {},
   "outputs": [
    {
     "data": {
      "text/plain": [
       "(10500, 15000, 4500)"
      ]
     },
     "execution_count": 3,
     "metadata": {},
     "output_type": "execute_result"
    }
   ],
   "source": [
    "seed_pairs, ref_pairs = eval.load_dbp15k_ref(REF_PATH)\n",
    "test_pairs = ref_pairs.copy()\n",
    "ref_pairs.update(seed_pairs)\n",
    "len(test_pairs), len(ref_pairs), len(seed_pairs)"
   ]
  },
  {
   "cell_type": "code",
   "execution_count": 4,
   "metadata": {},
   "outputs": [],
   "source": [
    "kb1_prefix = 'http://zh.dbpedia.org/resource/'\n",
    "sameAsscores, ent_max_assign = eval.load_ent_results(RES_PATH, kb1_prefix)"
   ]
  },
  {
   "cell_type": "code",
   "execution_count": null,
   "metadata": {},
   "outputs": [
    {
     "name": "stdout",
     "output_type": "stream",
     "text": [
      "Hit@1: 0.9759\n",
      "Hit@10: 0.9882\n",
      "MRR: 0.9812\n"
     ]
    }
   ],
   "source": [
    "# Ranking Based Metrics: refer to whole results\n",
    "eval.dbp15k_eval(ref_pairs, sameAsscores)"
   ]
  },
  {
   "cell_type": "markdown",
   "metadata": {},
   "source": [
    "* OAEI KGs"
   ]
  },
  {
   "cell_type": "code",
   "execution_count": 2,
   "metadata": {},
   "outputs": [],
   "source": [
    "REF_PATH = 'data/OAEI/memoryalpha-stexpanded/'\n",
    "RES_PATH = 'save/memoryalpha-stexpanded.ttl'\n",
    "CLEAN_RES_PATH = 'save/memoryalpha-stexpanded-clean.ttl'"
   ]
  },
  {
   "cell_type": "code",
   "execution_count": 3,
   "metadata": {},
   "outputs": [],
   "source": [
    "prefix1 = 'http://dbkwik.webdatacommons.org/memory-alpha.wikia.com/'\n",
    "prefix2 = 'http://dbkwik.webdatacommons.org/stexpanded.wikia.com/'\n",
    "# # starswars-swtor\n",
    "# prefix1 = 'http://dbkwik.webdatacommons.org/starwars.wikia.com/'\n",
    "# prefix2 = 'http://dbkwik.webdatacommons.org/swtor.wikia.com/'\n",
    "threshold = 0.1"
   ]
  },
  {
   "cell_type": "code",
   "execution_count": 4,
   "metadata": {},
   "outputs": [],
   "source": [
    "class_gt, property_gt, instance_gt = eval.load_oaei_ref(REF_PATH, prefix1)"
   ]
  },
  {
   "cell_type": "code",
   "execution_count": 5,
   "metadata": {},
   "outputs": [
    {
     "data": {
      "text/plain": [
       "(13, 41, 1725)"
      ]
     },
     "execution_count": 5,
     "metadata": {},
     "output_type": "execute_result"
    }
   ],
   "source": [
    "len(class_gt), len(property_gt), len(instance_gt)"
   ]
  },
  {
   "cell_type": "code",
   "execution_count": 6,
   "metadata": {},
   "outputs": [],
   "source": [
    "y_pred_inst, y_pred_class, y_pred_similar, y_pred_sameAs = eval.load_full_results_oaei_kg_track(class_gt, instance_gt, property_gt, prefix1, RES_PATH)"
   ]
  },
  {
   "cell_type": "code",
   "execution_count": 8,
   "metadata": {},
   "outputs": [
    {
     "name": "stdout",
     "output_type": "stream",
     "text": [
      "**Instances: \n",
      "   Precision: 1.0000, Recall: 0.9461, F1: 0.9723\n",
      "**Classes: \n",
      "   Precision: 1.0000, Recall: 0.8462, F1: 0.9167\n",
      "**Properties: \n",
      "   Precision: 1.0000, Recall: 0.9756, F1: 0.9877\n",
      "**Overall: \n",
      "   Precision: 1.0000, Recall: 0.9460, F1: 0.9723\n",
      "\n",
      "Saved final results to \"save/memoryalpha-stexpanded-clean.ttl\"\n"
     ]
    }
   ],
   "source": [
    "eval.oaei_kg_eval(class_gt, instance_gt, property_gt,\n",
    "                  y_pred_class, y_pred_inst, y_pred_sameAs, y_pred_similar,\n",
    "                  prefix1, prefix2, threshold, save_path=CLEAN_RES_PATH)"
   ]
  },
  {
   "cell_type": "markdown",
   "metadata": {},
   "source": [
    "* Draw graph"
   ]
  },
  {
   "cell_type": "code",
   "execution_count": null,
   "metadata": {},
   "outputs": [
    {
     "data": {
      "image/png": "[encoded data removed]",
      "text/plain": [
       "<Figure size 600x350 with 2 Axes>"
      ]
     },
     "metadata": {},
     "output_type": "display_data"
    }
   ],
   "source": [
    "import matplotlib.pyplot as plt\n",
    "\n",
    "alpha = [1, 1.5, 2, 2.5, 3, 3.5, 4, 4.5, 5]\n",
    "y_precision = [0.842, 0.971, 0.973, 0.973, 0.973, 0.975, 0.976, 0.977, 0.974]\n",
    "y_recall = [0.432, 0.811, 0.817, 0.819, 0.818,  0.822, 0.821, 0.821, 0.820]\n",
    "y_f1 = [0.571, 0.884, 0.888, 0.889, 0.889, 0.892, 0.891, 0.892, 0.891]\n",
    "y_time = [2.61, 12.18, 9.87, 8.19, 7.28, 7.52, 6.98, 6.83, 7.11]\n",
    "\n",
    "fig, ax1 = plt.subplots(figsize=(6, 3.5))\n",
    "# ax1.set_ylim(0.55, 1.0)\n",
    "plt.rcParams.update({'font.size': 14})\n",
    "\n",
    "color = 'tab:blue'\n",
    "ax1.set_xlabel('alpha')\n",
    "ax1.set_ylabel('score', color=color)\n",
    "# ax1.plot(alpha, y1, marker='o', color=color, label='Score')\n",
    "line1, = ax1.plot(alpha, y_precision, marker='o', color='tab:orange', label='Precision')\n",
    "line2, = ax1.plot(alpha, y_recall, marker='o', color='tab:green', label='Recall')\n",
    "line3,  = ax1.plot(alpha, y_f1, marker='o', color='tab:purple', label='F1-score')\n",
    "ax1.tick_params(axis='y', labelcolor=color)\n",
    "\n",
    "\n",
    "ax2 = ax1.twinx()\n",
    "color = 'tab:red'\n",
    "ax2.set_ylabel('time (minutes)', color=color)\n",
    "# ax2.plot(alpha, y2, marker='s', color=color, label='Time')\n",
    "line4, = ax2.plot(alpha, y_time, marker='s', color=color, label='Time')\n",
    "ax2.tick_params(axis='y', labelcolor=color)\n",
    "\n",
    "\n",
    "lines = [line1, line2, line3, line4]\n",
    "labels = [line.get_label() for line in lines]\n",
    "ax1.legend(lines, labels, loc='lower right', fontsize=12)\n",
    "\n",
    "\n",
    "fig.tight_layout(pad=1.5)\n",
    "# plt.title('D-W-15k-V1')\n",
    "plt.savefig(\"D-W-15k-V1.pdf\", format=\"pdf\", bbox_inches='tight')\n",
    "# plt.grid(True)\n",
    "plt.show()\n"
   ]
  },
  {
   "cell_type": "code",
   "execution_count": null,
   "metadata": {},
   "outputs": [],
   "source": []
  }
 ],
 "metadata": {
  "kernelspec": {
   "display_name": "labenv",
   "language": "python",
   "name": "python3"
  },
  "language_info": {
   "codemirror_mode": {
    "name": "ipython",
    "version": 3
   },
   "file_extension": ".py",
   "mimetype": "text/x-python",
   "name": "python",
   "nbconvert_exporter": "python",
   "pygments_lexer": "ipython3",
   "version": "3.9.18"
  }
 },
 "nbformat": 4,
 "nbformat_minor": 2
}
